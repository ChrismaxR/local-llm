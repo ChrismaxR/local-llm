{
 "cells": [
  {
   "cell_type": "code",
   "execution_count": 20,
   "metadata": {},
   "outputs": [],
   "source": [
    "# Code for accessing Ollama and posing questions\n",
    "# Test wether it works to invoke a model and pose a question\n",
    "\n",
    "MODEL = \"gemma:2b\"\n",
    "# MODEL = \"mistral\"\n",
    "# MODEL = \"llama2\"\n",
    "\n",
    "\n",
    "from langchain_community.llms import Ollama\n",
    "from langchain_community.embeddings import OllamaEmbeddings\n",
    "\n",
    "model = Ollama(model=MODEL)\n",
    "embeddings = OllamaEmbeddings(model=MODEL)\n",
    "\n",
    "# Actual method to invoke a model and ask a question:\n",
    "# model.invoke(\"Tell me a joke\")"
   ]
  },
  {
   "cell_type": "markdown",
   "metadata": {},
   "source": [
    "Get a list of paths of docx documents I want to load into memory"
   ]
  },
  {
   "cell_type": "code",
   "execution_count": 1,
   "metadata": {},
   "outputs": [],
   "source": [
    "import os\n",
    "\n",
    "data_path = os.getenv(\"DOCUMENTS_PATH\")\n",
    "\n",
    "# Retrieve the path names of files in the specified directory\n",
    "docx_file_paths = [os.path.join(data_path, file) for file in os.listdir(data_path)]\n",
    "docx_file_paths_cleaned = [item for item in docx_file_paths if item.endswith('.docx')]"
   ]
  },
  {
   "cell_type": "markdown",
   "metadata": {},
   "source": [
    "**# Load in files to apply RAG to**\n",
    "Load the docx files into memory using the docx-python library"
   ]
  },
  {
   "cell_type": "code",
   "execution_count": 2,
   "metadata": {},
   "outputs": [],
   "source": [
    "from langchain_community.document_loaders import Docx2txtLoader\n",
    "\n",
    "loaded_texts = [Docx2txtLoader(path) for path in docx_file_paths_cleaned]\n"
   ]
  },
  {
   "cell_type": "markdown",
   "metadata": {},
   "source": [
    "# Create embedding\n",
    "## test on one document text first, then try to iterate over all texts\n"
   ]
  },
  {
   "cell_type": "code",
   "execution_count": 8,
   "metadata": {},
   "outputs": [],
   "source": [
    "test_pages = loaded_texts[5].load_and_split()"
   ]
  },
  {
   "cell_type": "markdown",
   "metadata": {},
   "source": [
    "# Create Templete\n"
   ]
  },
  {
   "cell_type": "code",
   "execution_count": 3,
   "metadata": {},
   "outputs": [
    {
     "name": "stdout",
     "output_type": "stream",
     "text": [
      "\n",
      "Answer the question based on the context below. If you can't \n",
      "answer the question, reply \"I don't know\".\n",
      "\n",
      "Context: Here is some context\n",
      "\n",
      "Question: Here is a question\n",
      "\n"
     ]
    }
   ],
   "source": [
    "from langchain.prompts import PromptTemplate\n",
    "\n",
    "template = \"\"\"\n",
    "Answer the question based on the context below. If you can't \n",
    "answer the question, reply \"I don't know\".\n",
    "\n",
    "Context: {context}\n",
    "\n",
    "Question: {question}\n",
    "\"\"\"\n",
    "\n",
    "prompt = PromptTemplate.from_template(template)\n",
    "prompt.format(context=\"Here is some context\", question=\"Here is a question\")\n",
    "print(prompt.format(context=\"Here is some context\", question=\"Here is a question\"))\n"
   ]
  },
  {
   "cell_type": "markdown",
   "metadata": {},
   "source": [
    "# Create embeddings"
   ]
  },
  {
   "cell_type": "code",
   "execution_count": null,
   "metadata": {},
   "outputs": [],
   "source": [
    "from langchain_community.vectorstores import DocArrayInMemorySearch\n",
    "\n",
    "vectorstore = DocArrayInMemorySearch.from_documents(test_pages, embedding = embeddings)"
   ]
  },
  {
   "cell_type": "code",
   "execution_count": 13,
   "metadata": {},
   "outputs": [
    {
     "data": {
      "text/plain": [
       "[Document(page_content='Op het moment dat de nieuwe persoonslijst van de niet-ingezetene op de bevragingenserver staat, kan die bevraagd worden door de geautoriseerde afnemers waaronder DigiD.\\n\\nDe doorlooptijd van dit proces bedraagt in de huidige configuratie vele uren, vanwege de vele onafhankelijke tijdsintervallen; te lang voor de niet-ingezetene om op te wachten bij inschrijving aan het RNI-loket. Wanneer de totale doorlooptijd vanaf inschrijven tot bevraagbaar zijn voor DigiD teruggebracht kan worden tot maximaal een kwartier, dan wordt het mogelijk om het inschrijven aan de RNI-balie en het aanvragen van DigiD in één loketbezoek af te handelen. Op dit moment zijn er drie DigiD-balies die ook RNI-loket zijn: Breda, Den Haag en Venlo. Het voornemen bestaat om het aanvragen van DigiD mogelijk te maken bij alle RNI-loketten.\\n\\n\\n\\nHet proces van het aanvragen van DigiD Buitenland verloopt op hoofdlijnen als volgt:\\n\\nDe aanvrager moet in het bezit zijn van een EER-nationaliteit en –paspoort of –identiteitskaart;\\n\\nIngeschreven zijn in de BRP als niet-ingezetene;\\n\\nIn het bezit zijn van een mobiele telefoon en e-mailadres;\\n\\nDe aanvrager vult een aanvraagformulier in op de website van DigiD Buitenland;\\n\\nAls alle gegevens correct bevonden zijn, ontvangt de aanvrager een zogenaamde baliecode;\\n\\nMet die baliecode en het EER-identiteitsbewijs gaat de aanvrager naar een van de DigiD-balies. Aan de DigiD-balie wordt de identiteit van de aanvrager gecontroleerd aan de hand van het identiteitsbewijs en vergeleken met de aanvraag. Als de identiteit en de baliecode correct bevonden zijn, wordt de activatiecode uitgereikt;\\n\\nMet die activatiecode kan de aanvrager haar DigiD activeren en gebruiken.\\n\\nWanneer de inschrijving als niet-ingezetene aan de RNI-balie in Nederland direct gevolgd wordt door een DigiD-aanvraag en de aanvrager maximaal een kwartier moet wachten in het RNI-loket, dan moet het mogelijk zijn om het identificatieproces voor DigiD te vereenvoudigen. De aanvrager is immers al uitgebreid geïdentificeerd bij de inschrijving als niet-ingezetene. \\n\\nWaarde / Beoogde baten\\n\\nVoor de niet-ingezetene levert een gecombineerde aanvraag een groot voordeel op in tijd, inspanning en verminderde kans op fouten. \\nOp dit moment zijn er slechts drie RNI-loketten ook DigiD-balie. Dit betekent dat de niet-ingezetene in de meeste gevallen na de RNI-inschrijving zich ook nog een weg moet vinden naar een DigiD-balie. De taal vormt hierbij een extra barrière aangezien de DigiD-aanvraag alleen in het Nederlands en Engels beschikbaar is. Bij een gecombineerde aanvraag kan de aanvrager beter ondersteund worden bij de DigiD-aanvraag omdat de aanvrager al aan het loket staat.\\n\\nAangezien de aanvrager fysiek aanwezig is bij de DigiD-aanvraag, maakt dit de uitgifte van DigiD Hoog mogelijk. Bij de huidige aanvraagprocedure van DigiD Buitenland is dit nog niet mogelijk.\\n\\nHet versnellen van de verwerking van het berichtenverkeer heeft ook voordelen voor alle andere afnemers van de BRP. En is een eerste stap in de richting van ‘near realtime’ bijhouding en gegevenslevering voor de hele BRP.\\n\\nAcceptatiecriteria voor implementatie-oplossingsrichting\\n\\nDigiD heeft eigen acceptatiecriteria voor het proces van verstrekken van DigiD op de verschillende betrouwbaarheidsniveaus (Basis, Midden, DigiD Substantieel en DigiD Hoog); bij eventuele aanpassingen aan het DigiD-proces moeten deze criteria toegepast worden;\\n\\nDe maximale wachttijd van 15 minuten voor de aanvrager is een eerste aanname. Die is vooral gebaseerd op de situatie van groepsgewijze inschrijving. In de uitwerking moet verder onderzocht worden wat een acceptabele wachttijd is voor de verschillende inschrijfpatronen (individueel, kleine groep, grote groep);\\n\\nDe niet-ingezetenen moeten in vrijheid een DigiD kunnen aanvragen, met een eigen gebruikersnaam en eigen wachtwoord. In het proces aan de balies moeten de voorwaarden hiervoor aanwezig zijn, ook bij grote drukte vanwege bijvoorbeeld groepsinschrijvingen.\\n\\nAandachtspunten', metadata={'source': '/Users/home/Documents/Entrador/RvIG/Algemeen/Initiatieven analyse/initiatieven/RNI-12-02 Initiatief-DigiD aan RNI-balie.docx'}),\n",
       " Document(page_content='Aandachtspunten\\n\\nEr is een relatie met het initiatief RNI-01-03 Vooraanmelding RNI-inschrijving. Mogelijk is er een optie om in de vooraanmelding alvast uit te vragen of de persoon een DigiD wil aanvragen tegelijkertijd met de RNI-inschrijving. De persoon kan dan alvast informatie krijgen over het aanvraagproces en erop gewezen worden dat zij een gemakkelijk te onthouden en moeilijk te raden gebruikersnaam moet bedenken.\\n\\n\\n\\n\\n\\n3\\n\\n3', metadata={'source': '/Users/home/Documents/Entrador/RvIG/Algemeen/Initiatieven analyse/initiatieven/RNI-12-02 Initiatief-DigiD aan RNI-balie.docx'}),\n",
       " Document(page_content='Initiatief DigiD aan de RNI-balie\\n\\nVoordat een initiatief voor impactanalyse aan RvIG kan worden aangeboden moet voldoende duidelijk zijn wat het probleem is en de gewenste ‘business’-oplossing. Ook moet gespecificeerd zijn wat de acceptatiecriteria zijn die worden gesteld aan de oplossingsrichting(en) voor implementatie. \\n\\nDeze template beschrijft de inhoud van een initiatiefbeschrijving om “ready” te zijn voor impactanalyse.\\n\\nInitiatieven worden beschreven door het Realisatieteam en aangeboden aan het portfolio-overleg\\n\\n\\n\\n\\tContactpersoon\\tReferentie\\n\\n\\tFrans Rijkers\\tRNI-12-02\\n\\nOntwikkelpunt\\n\\nVerbeteren en uitbreiden registratie niet-ingezetenen\\n\\nOnderwerp\\n\\nDigid klaar-terwijl-u-wacht verstrekken bij inschrijving aan de RNI-balie\\n\\nSamenvatting van het initiatief\\n\\nVoor niet-ingezetenen die zich inschrijven aan de RNI-balie en in Nederland digitaal hun zaken met de overheid willen doen is een klaar-terwijl-u-wacht service voor het aanvragen van DigiD een dienst\\n\\ndie hen in staat stelt om in 1 keer hun overheidszaken goed te regelen. In tegenstelling tot de situatie dat zij op een later moment moeten terugkomen naar vaak een ander loket is deze oplossing gebruikersvriendelijk, makkelijk en snel.\\n\\nGevraagde impactanalyse \\n\\nOnderzoek wat er voor nodig is om de doorlooptijd vanaf het moment van registratie aan de RNI-balie tot aan het moment van beschikbaarheid van het BSN voor bevraging door DigiD zodanig verkort kan worden dat een acceptabele wachttijd van maximaal 15 minuten ontstaat. Onderzoek daarnaast of het bestaande aanvraagproces van DigiD Buitenland zodanig aangepast kan worden dat de identificatie van de aanvrager bij uitreiking van de baliecode kan vervallen.\\n\\nGewenste datum realisatie\\n\\nEind Q1 2022.\\n\\nAanleiding / Probleemstelling\\n\\nEen groeiend aantal niet-ingezetenen wil DigiD gebruiken tijdens hun –korte– periode in Nederland om digitaal hun zaken te kunnen regelen. Deze groei komt grotendeels voort uit de zorgsector (huisarts- en ziekenhuisbezoek, zorgverzekering, apotheek etc.) en wordt in de Corona-periode nog versterkt door het digitaal coronatoegangsbewijs.\\n\\nHet aanvragen van DigiD voor niet-ingezetenen verloopt anders dan voor ingezetenen. In plaats van een brief met activatiecode naar het woonadres, ontvangt de niet-ingezetene bij de aanvraag een zogenaamde baliecode via e-mail en/of SMS. Deze baliecode moet bij een van de DigiD-balies omgewisseld worden voor de activatiecode. Voor het aanvragen van DigiD is het bezit van een burgerservicenummer (BSN) een voorwaarde; tijdens het aanvraagproces wordt dit BSN online gecontroleerd door DigiD.\\n\\nHet BSN van de niet-ingezetene die zich inschrijft aan de RNI-balie doorloopt op dit moment de volgende stappen voordat DigiD het kan bevragen:\\n\\nWanneer de tweede RNI-medewerker de inschrijving van de niet-ingezetene goedkeurt, wordt het BSN toegekend en op de persoonslijst geplaatst;\\n\\nMet een instelbaar tijdsinterval worden kopieën van nieuwe en gewijzigde persoonslijsten van de RNI-applicatie naar GBA-V gestuurd;\\n\\nMet een instelbaar tijdsinterval haalt GBA-V alle binnengekomen berichten uit de GBA-V-mailbox en zet ze klaar voor verwerking;\\n\\nMet een instelbaar tijdsinterval verwerkt GBA-V alle klaarstaande berichten waarmee de nieuwe en gewijzigde persoonslijsten in de hoofddatabase opgenomen worden; \\n\\nMet een instelbaar tijdsinterval worden de actuele stand van de hoofddatabase gesynchroniseerd met een aantal bevragingenservers;\\n\\nOp het moment dat de nieuwe persoonslijst van de niet-ingezetene op de bevragingenserver staat, kan die bevraagd worden door de geautoriseerde afnemers waaronder DigiD.', metadata={'source': '/Users/home/Documents/Entrador/RvIG/Algemeen/Initiatieven analyse/initiatieven/RNI-12-02 Initiatief-DigiD aan RNI-balie.docx'})]"
      ]
     },
     "execution_count": 13,
     "metadata": {},
     "output_type": "execute_result"
    }
   ],
   "source": [
    "retriever = vectorstore.as_retriever()\n",
    "\n",
    "retriever.invoke(\"Initiatiefnaam\")\n"
   ]
  },
  {
   "cell_type": "markdown",
   "metadata": {},
   "source": [
    "# Create Chain"
   ]
  },
  {
   "cell_type": "code",
   "execution_count": 17,
   "metadata": {},
   "outputs": [
    {
     "name": "stdout",
     "output_type": "stream",
     "text": [
      "<bound method BaseModel.schema of <class 'langchain_core.runnables.base.RunnableSequence'>>\n"
     ]
    }
   ],
   "source": [
    "from operator import itemgetter\n",
    "\n",
    "chain = (\n",
    "    {\n",
    "        \"context\": itemgetter(\"question\") | retriever,\n",
    "        \"question\": itemgetter(\"question\"),\n",
    "    }\n",
    "    | prompt\n",
    "    | model\n",
    ")\n"
   ]
  },
  {
   "cell_type": "markdown",
   "metadata": {},
   "source": [
    "# Run the code"
   ]
  },
  {
   "cell_type": "code",
   "execution_count": null,
   "metadata": {},
   "outputs": [],
   "source": [
    "\n",
    "#chain.invoke(\n",
    "#    {\n",
    "#\n",
    "#    \"question\": \"Geef de code van dit initiatief, deze heeft de vorm van AAA-11-11 \" \n",
    "#    }\n",
    "#)"
   ]
  }
 ],
 "metadata": {
  "kernelspec": {
   "display_name": "base",
   "language": "python",
   "name": "python3"
  },
  "language_info": {
   "codemirror_mode": {
    "name": "ipython",
    "version": 3
   },
   "file_extension": ".py",
   "mimetype": "text/x-python",
   "name": "python",
   "nbconvert_exporter": "python",
   "pygments_lexer": "ipython3",
   "version": "3.9.18"
  }
 },
 "nbformat": 4,
 "nbformat_minor": 2
}
