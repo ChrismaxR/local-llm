{
 "cells": [
  {
   "cell_type": "code",
   "execution_count": 2,
   "metadata": {},
   "outputs": [],
   "source": [
    "# Code for accessing Ollama and posing questions\n",
    "# Test wether it works to invoke a model and pose a question\n",
    "\n",
    "# MODEL = \"gemma:2b\"\n",
    "# MODEL = \"mistral\"\n",
    "MODEL = \"llama2\"\n",
    "\n",
    "\n",
    "from langchain_community.llms import Ollama\n",
    "from langchain_community.embeddings import OllamaEmbeddings\n",
    "\n",
    "model = Ollama(model=MODEL)\n",
    "embeddings = OllamaEmbeddings(model=MODEL)\n",
    "\n",
    "# Actual method to invoke a model and ask a question:\n",
    "# model.invoke(\"Tell me a joke\")"
   ]
  },
  {
   "cell_type": "markdown",
   "metadata": {},
   "source": [
    "Get a list of paths of docx documents I want to load into memory"
   ]
  },
  {
   "cell_type": "code",
   "execution_count": 5,
   "metadata": {},
   "outputs": [
    {
     "name": "stdout",
     "output_type": "stream",
     "text": [
      "/Users/home/Documents/Entrador/RvIG/Algemeen/Initiatieven analyse/initiatieven\n"
     ]
    }
   ],
   "source": [
    "import os\n",
    "\n",
    "data_path = os.getenv(\"DOCUMENTS_PATH\")\n",
    "\n",
    "# Retrieve the path names of files in the specified directory\n",
    "docx_file_paths = [os.path.join(data_path, file) for file in os.listdir(data_path)]\n",
    "docx_file_paths_cleaned = [item for item in docx_file_paths if item.endswith('.docx')]"
   ]
  },
  {
   "cell_type": "markdown",
   "metadata": {},
   "source": [
    "**# Load in files to apply RAG to**\n",
    "Load the docx files into memory using the docx-python library"
   ]
  },
  {
   "cell_type": "code",
   "execution_count": 6,
   "metadata": {},
   "outputs": [],
   "source": [
    "from langchain_community.document_loaders import Docx2txtLoader\n",
    "\n",
    "loaded_texts = [Docx2txtLoader(path) for path in docx_file_paths_cleaned]\n"
   ]
  },
  {
   "cell_type": "markdown",
   "metadata": {},
   "source": [
    "# Create embedding\n",
    "## test on one document text first, then try to iterate over all texts"
   ]
  },
  {
   "cell_type": "code",
   "execution_count": null,
   "metadata": {},
   "outputs": [],
   "source": [
    "test_pages = loaded_texts[5].load_and_split()"
   ]
  },
  {
   "cell_type": "markdown",
   "metadata": {},
   "source": [
    "# Create Templete\n"
   ]
  },
  {
   "cell_type": "code",
   "execution_count": null,
   "metadata": {},
   "outputs": [],
   "source": [
    "from langchain.prompts import PromptTemplate\n",
    "\n",
    "template = \"\"\"\n",
    "Answer the question based on the context below. If you can't \n",
    "answer the question, reply \"I don't know\".\n",
    "\n",
    "Context: {context}\n",
    "\n",
    "Question: {question}\n",
    "\"\"\"\n",
    "\n",
    "prompt = PromptTemplate.from_template(template)\n",
    "prompt.format(context=\"Here is some context\", question=\"Here is a question\")\n",
    "print(prompt.format(context=\"Here is some context\", question=\"Here is a question\"))\n"
   ]
  },
  {
   "cell_type": "markdown",
   "metadata": {},
   "source": [
    "# Create Chain"
   ]
  },
  {
   "cell_type": "code",
   "execution_count": null,
   "metadata": {},
   "outputs": [],
   "source": [
    "chain = prompt| model\n",
    "\n",
    "# With this call, I can check what the schema is, so I know how to form the invoke method\n",
    "# chain.input_schema.schema\n",
    "\n",
    "#chain.invoke(\n",
    "#    {\n",
    "#        \"context\": \"The name I was given is Christian\",\n",
    "#        \"question\": \"What is my name?\"\n",
    "#    }\n",
    "#\n",
    "#)"
   ]
  },
  {
   "cell_type": "markdown",
   "metadata": {},
   "source": [
    "# Create embeddings"
   ]
  },
  {
   "cell_type": "code",
   "execution_count": null,
   "metadata": {},
   "outputs": [],
   "source": [
    "from langchain_community.vectorstores import DocArrayInMemorySearch\n",
    "\n",
    "vectorstore = DocArrayInMemorySearch.from_documents(test_pages, embedding = embeddings)"
   ]
  }
 ],
 "metadata": {
  "kernelspec": {
   "display_name": "base",
   "language": "python",
   "name": "python3"
  },
  "language_info": {
   "codemirror_mode": {
    "name": "ipython",
    "version": 3
   },
   "file_extension": ".py",
   "mimetype": "text/x-python",
   "name": "python",
   "nbconvert_exporter": "python",
   "pygments_lexer": "ipython3",
   "version": "3.9.18"
  }
 },
 "nbformat": 4,
 "nbformat_minor": 2
}
